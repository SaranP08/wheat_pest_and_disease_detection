{
 "cells": [
  {
   "cell_type": "code",
   "execution_count": null,
   "id": "7cd6c65f",
   "metadata": {},
   "outputs": [],
   "source": [
    "!pip install ultralytics==8.2.103 -q\n",
    "\n",
    "from IPython import display\n",
    "display.clear_output()\n",
    "\n",
    "!yolo settings sync=False\n",
    "\n",
    "import ultralytics\n",
    "ultralytics.checks()"
   ]
  },
  {
   "cell_type": "code",
   "execution_count": null,
   "id": "db4fe06f",
   "metadata": {},
   "outputs": [],
   "source": [
    "from ultralytics import YOLO\n",
    "\n",
    "from IPython.display import display, Image"
   ]
  },
  {
   "cell_type": "code",
   "execution_count": null,
   "id": "27fd2bb4",
   "metadata": {},
   "outputs": [],
   "source": [
    "!yolo task=detect mode=val model=/home/satyukt/Projects/1000/indrajit/1800/dummy/test_data/best_14.pt data=/home/satyukt/Projects/1000/indrajit/1800/dummy/test_data/merge_data.v1i.yolov8/data.yaml"
   ]
  },
  {
   "cell_type": "code",
   "execution_count": null,
   "id": "a56220f6",
   "metadata": {},
   "outputs": [],
   "source": [
    "!yolo task=detect mode=predict model=/home/satyukt/Projects/1000/indrajit/1800/dummy/test_data/best_14.pt conf=0.25 source={dataset.location}/test/images save=True"
   ]
  },
  {
   "cell_type": "markdown",
   "id": "512704db",
   "metadata": {},
   "source": [
    "### ['Aphid', 'Black Rust', 'Blast', 'Brown Rust', 'Common Root Rot', 'Fusarium Head', 'Leaf Blight', 'Mildew', 'Mite', 'Septoria', 'Smut', 'Stem_fly', 'Tan spot', 'yellow_rust']"
   ]
  },
  {
   "cell_type": "code",
   "execution_count": null,
   "id": "0f9c980b",
   "metadata": {},
   "outputs": [],
   "source": [
    "!yolo task=detect mode=predict \\\n",
    "    model=/home/satyukt/Projects/1000/indrajit/1800/dummy/test_data/best_14.pt \\\n",
    "    conf=0.25 \\\n",
    "    source=/home/satyukt/Projects/1000/indrajit/1800/dummy/test_data/merge_data.v1i.yolov8/test/images \\\n",
    "    save=True \\\n",
    "    project=/home/satyukt/Projects/1000/indrajit/1800/dummy/test_data/merge_data.v1i.yolov8/test/predicted/ \\\n",
    "    name=results \\\n",
    "    exist_ok=True\n"
   ]
  }
 ],
 "metadata": {
  "kernelspec": {
   "display_name": "base",
   "language": "python",
   "name": "python3"
  },
  "language_info": {
   "codemirror_mode": {
    "name": "ipython",
    "version": 3
   },
   "file_extension": ".py",
   "mimetype": "text/x-python",
   "name": "python",
   "nbconvert_exporter": "python",
   "pygments_lexer": "ipython3",
   "version": "3.11.6"
  }
 },
 "nbformat": 4,
 "nbformat_minor": 5
}
